{
  "nbformat": 4,
  "nbformat_minor": 0,
  "metadata": {
    "colab": {
      "provenance": [],
      "authorship_tag": "ABX9TyNf+mFvZaDeBbQ8SgH9pKqH"
    },
    "kernelspec": {
      "name": "python3",
      "display_name": "Python 3"
    },
    "language_info": {
      "name": "python"
    }
  },
  "cells": [
    {
      "cell_type": "code",
      "execution_count": null,
      "metadata": {
        "id": "vkC1gF4pEnwa"
      },
      "outputs": [],
      "source": [
        "import gensim\n",
        "import pprint\n",
        "from gensim import corpora\n",
        "from gensim.utils import simple_preprocess"
      ]
    },
    {
      "cell_type": "code",
      "source": [
        "import os\n",
        "from google.colab import drive"
      ],
      "metadata": {
        "id": "Hd6mzx2OEwgd"
      },
      "execution_count": null,
      "outputs": []
    },
    {
      "cell_type": "code",
      "source": [
        "drive.mount('/content/drive')\n"
      ],
      "metadata": {
        "id": "pU23BCewH1VS"
      },
      "execution_count": null,
      "outputs": []
    },
    {
      "cell_type": "code",
      "source": [
        "file_path = '/content/drive/MyDrive/corp'  # Replace with the actual path\n",
        "os.chdir(file_path)"
      ],
      "metadata": {
        "id": "hN2a8AI1H7FR"
      },
      "execution_count": null,
      "outputs": []
    },
    {
      "cell_type": "code",
      "source": [
        "doc=[]"
      ],
      "metadata": {
        "id": "yLPywVbkIOYb"
      },
      "execution_count": null,
      "outputs": []
    },
    {
      "cell_type": "code",
      "source": [
        "for filename in os.listdir():\n",
        "    if filename.endswith('.txt'):\n",
        "        with open(filename, 'r') as file:\n",
        "            content = file.read()\n",
        "            doc.append(content)"
      ],
      "metadata": {
        "id": "OmP38lo6IR-t"
      },
      "execution_count": null,
      "outputs": []
    },
    {
      "cell_type": "code",
      "source": [
        "len_list = []  # Create a list to store the lengths\n",
        "for item in doc:\n",
        "    length = len(item)  # Access the item directly to get its length\n",
        "    len_list.append(length)  # Append to the correct list\n",
        "\n",
        "print(len_list)"
      ],
      "metadata": {
        "id": "mt23G4OLIZEw"
      },
      "execution_count": null,
      "outputs": []
    },
    {
      "cell_type": "code",
      "source": [
        "doc_tokenized = [simple_preprocess(r) for r in doc]"
      ],
      "metadata": {
        "id": "4bpbmwnTKdJN"
      },
      "execution_count": null,
      "outputs": []
    },
    {
      "cell_type": "code",
      "source": [
        "dictionary = corpora.Dictionary()"
      ],
      "metadata": {
        "id": "SZ0AAauDKnYE"
      },
      "execution_count": null,
      "outputs": []
    },
    {
      "cell_type": "code",
      "source": [
        "doc_corpus = [dictionary.doc2bow(item, allow_update=True) for item in doc_tokenized]"
      ],
      "metadata": {
        "id": "PZC1_1r1KpMV"
      },
      "execution_count": null,
      "outputs": []
    },
    {
      "cell_type": "code",
      "source": [
        "for doc in doc_corpus:\n",
        "   print([[dictionary[id], freq] for id, freq in doc])"
      ],
      "metadata": {
        "id": "JKcnGJI4K0aM"
      },
      "execution_count": null,
      "outputs": []
    },
    {
      "cell_type": "code",
      "source": [
        "import numpy as np\n",
        "from gensim.models import TfidfModel"
      ],
      "metadata": {
        "id": "h-BXLLnaK780"
      },
      "execution_count": null,
      "outputs": []
    },
    {
      "cell_type": "code",
      "source": [
        "tfidf = TfidfModel(doc_corpus)"
      ],
      "metadata": {
        "id": "MyVL9Z5KLA5R"
      },
      "execution_count": null,
      "outputs": []
    },
    {
      "cell_type": "code",
      "source": [
        "for doc in tfidf[doc_corpus]:\n",
        "    sorted_doc = sorted(doc, key=lambda x: x[1], reverse=True)  # Sort by TF-IDF value in descending order\n",
        "    print([[dictionary[id], np.around(freq,decimals=5)] for id, freq in sorted_doc])  # Print the sorted values"
      ],
      "metadata": {
        "id": "mJ8FY1ggLarq"
      },
      "execution_count": null,
      "outputs": []
    },
    {
      "cell_type": "code",
      "source": [
        "target_words_file_path = '/content/drive/MyDrive/target.txt'\n",
        "# Load the target words from the file\n",
        "with open(target_words_file_path, 'r') as file:\n",
        "    target_words = file.read().splitlines()  # Split into a list of words"
      ],
      "metadata": {
        "id": "4dPpaXdeM7Ou"
      },
      "execution_count": null,
      "outputs": []
    },
    {
      "cell_type": "code",
      "source": [
        "target_list = [x.lower() for x in target_words]"
      ],
      "metadata": {
        "id": "CJxpihYvQLNV"
      },
      "execution_count": null,
      "outputs": []
    },
    {
      "cell_type": "code",
      "source": [
        "print(target_list)"
      ],
      "metadata": {
        "id": "FMJqJNqpNoze"
      },
      "execution_count": null,
      "outputs": []
    },
    {
      "cell_type": "code",
      "source": [
        "# Filter and sort TF-IDF values for target words\n",
        "for doc in tfidf[doc_corpus]:\n",
        "    target_word_tfidf = [(dictionary[id], np.around(freq)) for id, freq in doc if dictionary[id] in target_words]\n",
        "    sorted_tfidf = sorted(target_word_tfidf, key=lambda x: x[1], reverse=True)  # Sort by TF-IDF value in descending order\n",
        "    print(sorted_tfidf)  # Print the sorted values for target words in each document"
      ],
      "metadata": {
        "id": "ooIWBklPNXXG"
      },
      "execution_count": null,
      "outputs": []
    }
  ]
}